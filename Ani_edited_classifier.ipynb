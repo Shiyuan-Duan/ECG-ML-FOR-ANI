{
 "cells": [
  {
   "cell_type": "code",
   "execution_count": 2,
   "metadata": {},
   "outputs": [],
   "source": [
    "import torch\n",
    "from torch import nn\n",
    "from torch.utils.data import TensorDataset, DataLoader, Dataset\n",
    "import pandas as pd\n",
    "import numpy as np\n",
    "import matplotlib.pyplot as plt\n",
    "from dataset import ECGDataset, read_dataset_from_csv, dataset_folder, read_x_from_csv, read_x_from_mat\n",
    "from sklearn.metrics import accuracy_score\n",
    "from torchvision import transforms\n",
    "from utils import smooth_predictions\n",
    "from tqdm import tqdm"
   ]
  },
  {
   "cell_type": "code",
   "execution_count": 3,
   "metadata": {},
   "outputs": [],
   "source": [
    "TRAIN = True\n",
    "DATA_CSV = '70b_Day5_Data69_S2_src.csv'\n",
    "DATA_PREFIX = DATA_CSV.split('.')[0]\n",
    "\n",
    "NUM_OF_CLASS = 6\n",
    "WAVEFORM_TYPE = 1\n",
    "#0 = p-wave, 1 = pr-interval, 2 = qrs-comp, 3 = qt-interval, 4 = rr-interval"
   ]
  },
  {
   "cell_type": "code",
   "execution_count": null,
   "metadata": {},
   "outputs": [],
   "source": []
  },
  {
   "cell_type": "code",
   "execution_count": 4,
   "metadata": {},
   "outputs": [],
   "source": [
    "class ECGModel(nn.Module):\n",
    "    def __init__(self, input_dim, hidden_dim, num_layers, num_classes):\n",
    "        super(ECGModel, self).__init__()\n",
    "        # LSTM layer\n",
    "        self.lstm = nn.LSTM(input_dim, hidden_dim, num_layers, batch_first=True, bidirectional=True)\n",
    "        \n",
    "        # Batch Normalization\n",
    "        self.batch_norm = nn.BatchNorm1d(hidden_dim * 2)\n",
    "        \n",
    "        # Activation function\n",
    "        self.relu = nn.ReLU()\n",
    "        \n",
    "        # Classifier layer\n",
    "        self.classifier = nn.Linear(hidden_dim * 2, num_classes)\n",
    "        \n",
    "        # Sigmoid activation function for multi-label classification\n",
    "        self.sigmoid = nn.Sigmoid()\n",
    "\n",
    "    def forward(self, x):\n",
    "        # LSTM forward pass\n",
    "        lstm_out, _ = self.lstm(x)\n",
    "        \n",
    "        # Reshape for batch normalization\n",
    "        lstm_out_reshaped = lstm_out.contiguous().view(-1, lstm_out.shape[2])\n",
    "        \n",
    "        # Apply batch normalization\n",
    "        norm_out = self.batch_norm(lstm_out_reshaped)\n",
    "        \n",
    "        # Apply activation function\n",
    "        act_out = self.relu(norm_out)\n",
    "        \n",
    "        # Apply classifier to every time step\n",
    "        time_steps = lstm_out.shape[1]\n",
    "        out = self.classifier(act_out)\n",
    "        \n",
    "        # Apply sigmoid activation for multi-label classification\n",
    "        out = self.sigmoid(out)\n",
    "        \n",
    "        # Reshape output back to (batch_size, time_steps, num_classes)\n",
    "        return out.view(-1, time_steps, self.classifier.out_features)\n"
   ]
  },
  {
   "cell_type": "code",
   "execution_count": 4,
   "metadata": {},
   "outputs": [
    {
     "data": {
      "text/plain": [
       "' class ECGModel(nn.Module):\\n    def __init__(self, input_dim, hidden_dim, num_layers, num_classes):\\n        super(ECGModel, self).__init__()\\n        self.lstm = nn.LSTM(input_dim, hidden_dim, num_layers, batch_first=True, bidirectional=True)\\n        self.classifier = nn.Linear(hidden_dim*2, num_classes)\\n\\n    def forward(self, x):\\n        lstm_out, _ = self.lstm(x)\\n        # Apply classifier to every time step\\n        time_steps = lstm_out.shape[1]\\n        out = self.classifier(lstm_out.reshape(-1, lstm_out.shape[2]))\\n        return out.view(-1, time_steps, self.classifier.out_features)\\n    \\n '"
      ]
     },
     "execution_count": 4,
     "metadata": {},
     "output_type": "execute_result"
    }
   ],
   "source": [
    "#oldECGModel\n",
    "\"\"\" class ECGModel(nn.Module):\n",
    "    def __init__(self, input_dim, hidden_dim, num_layers, num_classes):\n",
    "        super(ECGModel, self).__init__()\n",
    "        self.lstm = nn.LSTM(input_dim, hidden_dim, num_layers, batch_first=True, bidirectional=True)\n",
    "        self.classifier = nn.Linear(hidden_dim*2, num_classes)\n",
    "\n",
    "    def forward(self, x):\n",
    "        lstm_out, _ = self.lstm(x)\n",
    "        # Apply classifier to every time step\n",
    "        time_steps = lstm_out.shape[1]\n",
    "        out = self.classifier(lstm_out.reshape(-1, lstm_out.shape[2]))\n",
    "        return out.view(-1, time_steps, self.classifier.out_features)\n",
    "    \n",
    " \"\"\"\n"
   ]
  },
  {
   "cell_type": "code",
   "execution_count": 12,
   "metadata": {},
   "outputs": [
    {
     "name": "stdout",
     "output_type": "stream",
     "text": [
      "Dataset len: 2273\n",
      "Epoch 1, Average Loss: 0.8295804758171935\n",
      "Epoch 2, Average Loss: 0.7403186188711153\n",
      "Epoch 3, Average Loss: 0.7148283507440474\n",
      "Epoch 4, Average Loss: 0.7054374247164159\n",
      "Epoch 5, Average Loss: 0.7011957606235584\n",
      "Epoch 6, Average Loss: 0.6986867647904617\n",
      "Epoch 7, Average Loss: 0.6972039512821011\n",
      "Epoch 8, Average Loss: 0.6963043817273387\n",
      "Epoch 9, Average Loss: 0.6957433052829929\n",
      "Epoch 10, Average Loss: 0.6951541462978283\n",
      "Epoch 11, Average Loss: 0.6948334437150222\n",
      "Epoch 12, Average Loss: 0.6945064630541768\n",
      "Epoch 13, Average Loss: 0.6942867649185074\n",
      "Epoch 14, Average Loss: 0.6940859718756243\n",
      "Epoch 15, Average Loss: 0.693979799747467\n",
      "Epoch 16, Average Loss: 0.6938950290213098\n",
      "Epoch 17, Average Loss: 0.6937995869796593\n",
      "Epoch 18, Average Loss: 0.6937066112364922\n",
      "Epoch 19, Average Loss: 0.693622985086241\n",
      "Epoch 20, Average Loss: 0.6935887741042184\n",
      "Epoch 21, Average Loss: 0.693542494223668\n",
      "Epoch 22, Average Loss: 0.6934929915241428\n",
      "Epoch 23, Average Loss: 0.6934558199002192\n",
      "Epoch 24, Average Loss: 0.6934171835859338\n",
      "Epoch 25, Average Loss: 0.69338850958364\n",
      "Epoch 26, Average Loss: 0.6934907715637367\n",
      "Epoch 27, Average Loss: 0.6933663266522068\n",
      "Epoch 28, Average Loss: 0.6933285289711052\n",
      "Epoch 29, Average Loss: 0.6933191047681795\n",
      "Epoch 30, Average Loss: 0.6932991384626268\n",
      "Epoch 31, Average Loss: 0.6932810544967651\n",
      "Epoch 32, Average Loss: 0.6932700205516148\n",
      "Epoch 33, Average Loss: 0.6932594684454111\n",
      "Epoch 34, Average Loss: 0.693254404968315\n",
      "Epoch 35, Average Loss: 0.693244094615216\n",
      "Epoch 36, Average Loss: 0.6932335104142036\n",
      "Epoch 37, Average Loss: 0.6932253683363641\n",
      "Epoch 38, Average Loss: 0.6932187638916336\n",
      "Epoch 39, Average Loss: 0.6932276583218074\n",
      "Epoch 40, Average Loss: 0.6932076665904973\n",
      "Epoch 41, Average Loss: 0.6932019628844894\n",
      "Epoch 42, Average Loss: 0.6931982332176262\n",
      "Epoch 43, Average Loss: 0.6931934777673308\n",
      "Epoch 44, Average Loss: 0.6931910773257276\n",
      "Epoch 45, Average Loss: 0.6931910756584647\n",
      "Epoch 46, Average Loss: 0.6931837017719562\n",
      "Epoch 47, Average Loss: 0.6931957877599276\n",
      "Epoch 48, Average Loss: 0.6931791655667179\n",
      "Epoch 49, Average Loss: 0.6931745847621997\n",
      "Epoch 50, Average Loss: 0.6931722647660262\n"
     ]
    }
   ],
   "source": [
    "if TRAIN:\n",
    "    # Create Dataset and DataLoader \n",
    "    # Modify this based on your need \n",
    "    #dataset = read_dataset_from_csv(train_csv='data/train/s2_src.csv', label_csv='data/train/s2_lbl.csv')\n",
    "    dataset = dataset_folder('./Test_ML')\n",
    "    dataloader = DataLoader(dataset, batch_size=16, shuffle=True)\n",
    "    print(f'Dataset len: {len(dataset)}')\n",
    "\n",
    "    # Initialize the model\n",
    "    model = ECGModel(input_dim=1, hidden_dim=128, num_layers=2, num_classes=NUM_OF_CLASS)\n",
    "    criterion = nn.BCEWithLogitsLoss()\n",
    "    optimizer = torch.optim.Adam(model.parameters(), lr=0.0001)\n",
    "\n",
    "    # Training the model\n",
    "    def train(model, dataloader, criterion, optimizer, num_epochs):\n",
    "        model.train()\n",
    "        for epoch in range(num_epochs):\n",
    "            total_loss = 0\n",
    "            for inputs, labels in dataloader:\n",
    "                optimizer.zero_grad()\n",
    "                outputs = model(inputs)\n",
    "                outputs = outputs.view(-1, NUM_OF_CLASS)  # Shape should be (N*T, num_classes)\n",
    "                labels = labels.view(-1, NUM_OF_CLASS)    # Shape should be (N*T, num_classes)\n",
    "                loss = criterion(outputs, labels.float())\n",
    "                loss.backward()\n",
    "                optimizer.step()\n",
    "                total_loss += loss.item()\n",
    "            print(f'Epoch {epoch+1}, Average Loss: {total_loss / len(dataloader)}')\n",
    "            torch.save(model.state_dict(), 'ecg_model.pth')\n",
    "\n",
    "    # Example training call\n",
    "    num_epochs = 50\n",
    "    train(model, dataloader, criterion, optimizer, num_epochs)"
   ]
  },
  {
   "cell_type": "code",
   "execution_count": 7,
   "metadata": {},
   "outputs": [
    {
     "data": {
      "text/plain": [
       "' model = ECGModel(input_dim=1, hidden_dim=64, num_layers=2, num_classes=NUM_OF_CLASS)\\nmodel.load_state_dict(torch.load(\\'ecg_model.pth\\'))\\nprint(\"Model loaded\")\\nmodel.eval() \\n#test_dataset = read_dataset_from_csv(train_csv=\\'./Test_ML/70b_Day5_Data69_S2_src.csv\\', label_csv=\\'./Test_ML/70b_Day5_Data69_S2_lbl.csv\\')\\ntest_dataset = dataset_folder(\\'./Train_ML\\')\\n\\n# test_dataset = read_x_from_csv(f\\'./Test_ML/{DATA_CSV}\\')\\n# test_dataset = read_x_from_mat(\\'data/exp_data/61b0.mat\\')\\nprint(\"Dataset loaded\")\\n\\ntest_dataloader = DataLoader(test_dataset, batch_size=16)\\ndef test(model, dataloader):\\n    all_predictions = []\\n    all_labels = []\\n    all_srcs = []\\n    with torch.no_grad():\\n        for inputs, labels in tqdm(dataloader, desc=\"Testing\"):\\n            outputs = model(inputs)\\n            _, predicted = torch.max(outputs.data, 2)  # Get predicted class for each time step\\n            all_predictions.extend(predicted.cpu().numpy().flatten())\\n            all_labels.extend(labels.cpu().numpy().flatten())\\n            all_srcs.extend(inputs.cpu().numpy().flatten())\\n\\n    return np.array(all_predictions), np.array(all_labels), np.array(all_srcs)\\n\\n# Run the test\\npredictions, labels, srcs = test(model, test_dataloader)\\n\\nlabels_class_indices = np.argmax(labels, axis=0)\\n\\nsmoothed = smooth_predictions(predictions)\\naccuracy = accuracy_score(labels, predictions)\\nsm_acc = accuracy_score(labels, smoothed)\\n\\nprint(f\\'Accuracy: {accuracy * 100:.2f}%\\')\\nprint(f\\'Accuracy smoothed: {sm_acc * 100:.2f}%\\') '"
      ]
     },
     "execution_count": 7,
     "metadata": {},
     "output_type": "execute_result"
    }
   ],
   "source": [
    "from tqdm import tqdm\n",
    "#multi class classification code\n",
    "\"\"\" model = ECGModel(input_dim=1, hidden_dim=64, num_layers=2, num_classes=NUM_OF_CLASS)\n",
    "model.load_state_dict(torch.load('ecg_model.pth'))\n",
    "print(\"Model loaded\")\n",
    "model.eval() \n",
    "#test_dataset = read_dataset_from_csv(train_csv='./Test_ML/70b_Day5_Data69_S2_src.csv', label_csv='./Test_ML/70b_Day5_Data69_S2_lbl.csv')\n",
    "test_dataset = dataset_folder('./Train_ML')\n",
    "\n",
    "# test_dataset = read_x_from_csv(f'./Test_ML/{DATA_CSV}')\n",
    "# test_dataset = read_x_from_mat('data/exp_data/61b0.mat')\n",
    "print(\"Dataset loaded\")\n",
    "\n",
    "test_dataloader = DataLoader(test_dataset, batch_size=16)\n",
    "def test(model, dataloader):\n",
    "    all_predictions = []\n",
    "    all_labels = []\n",
    "    all_srcs = []\n",
    "    with torch.no_grad():\n",
    "        for inputs, labels in tqdm(dataloader, desc=\"Testing\"):\n",
    "            outputs = model(inputs)\n",
    "            _, predicted = torch.max(outputs.data, 2)  # Get predicted class for each time step\n",
    "            all_predictions.extend(predicted.cpu().numpy().flatten())\n",
    "            all_labels.extend(labels.cpu().numpy().flatten())\n",
    "            all_srcs.extend(inputs.cpu().numpy().flatten())\n",
    "\n",
    "    return np.array(all_predictions), np.array(all_labels), np.array(all_srcs)\n",
    "\n",
    "# Run the test\n",
    "predictions, labels, srcs = test(model, test_dataloader)\n",
    "\n",
    "labels_class_indices = np.argmax(labels, axis=0)\n",
    "\n",
    "smoothed = smooth_predictions(predictions)\n",
    "accuracy = accuracy_score(labels, predictions)\n",
    "sm_acc = accuracy_score(labels, smoothed)\n",
    "\n",
    "print(f'Accuracy: {accuracy * 100:.2f}%')\n",
    "print(f'Accuracy smoothed: {sm_acc * 100:.2f}%') \"\"\""
   ]
  },
  {
   "cell_type": "code",
   "execution_count": 25,
   "metadata": {},
   "outputs": [
    {
     "name": "stdout",
     "output_type": "stream",
     "text": [
      "Model loaded\n",
      "Dataset loaded\n"
     ]
    },
    {
     "name": "stderr",
     "output_type": "stream",
     "text": [
      "Testing: 100%|██████████| 222/222 [00:02<00:00, 76.80it/s]\n"
     ]
    },
    {
     "name": "stdout",
     "output_type": "stream",
     "text": [
      "F1 Score Micro: 85.42\n",
      "F1 Score Macro: 61.02\n",
      "F1 Score Micro (smoothened): 76.22\n",
      "F1 Score Macro (smoothened): 54.72\n"
     ]
    }
   ],
   "source": [
    "from tqdm import tqdm\n",
    "from sklearn.metrics import accuracy_score, f1_score\n",
    "\n",
    "# Load the model\n",
    "model = ECGModel(input_dim=1, hidden_dim=128, num_layers=2, num_classes=NUM_OF_CLASS)\n",
    "model.load_state_dict(torch.load('ecg_model.pth'))\n",
    "print(\"Model loaded\")\n",
    "model.eval()\n",
    "\n",
    "# Load the test dataset\n",
    "test_dataset = dataset_folder('./Train_ML')\n",
    "print(\"Dataset loaded\")\n",
    "test_dataloader = DataLoader(test_dataset, batch_size=16)\n",
    "\n",
    "def test(model, dataloader, threshold=0.50003):\n",
    "    all_predictions = []\n",
    "    all_labels = []\n",
    "    all_probabilities = []\n",
    "    with torch.no_grad():\n",
    "        for inputs, labels in tqdm(dataloader, desc=\"Testing\"):\n",
    "            outputs = model(inputs)\n",
    "            # Apply sigmoid to get probabilities\n",
    "            probabilities = torch.sigmoid(outputs)\n",
    "            all_probabilities.extend(probabilities.cpu().numpy().flatten())\n",
    "            # Binarize the probabilities using the threshold\n",
    "            predicted = (probabilities > threshold).float()\n",
    "            \n",
    "            # Collect predictions and labels\n",
    "            all_predictions.extend(predicted.cpu().numpy().flatten())\n",
    "            all_labels.extend(labels.cpu().numpy().flatten())\n",
    "    \n",
    "    # Convert lists to numpy arrays\n",
    "    all_predictions = np.array(all_predictions)\n",
    "    all_labels = np.array(all_labels)\n",
    "\n",
    "    return all_predictions, all_labels, all_probabilities\n",
    "\n",
    "# Run the test\n",
    "predictions, labels, probabilities = test(model, test_dataloader)\n",
    "smoothed = smooth_predictions(predictions)\n",
    "# Compute the F1 score or other metrics for multi-label classification\n",
    "# Accuracy score in multi-label classification is not typically used; consider F1 score or precision/recall\n",
    "f1mic = f1_score(labels, predictions, average='micro')\n",
    "f1mac = f1_score(labels, predictions, average='macro')\n",
    "f1micsm = f1_score(labels, smoothed, average='micro')\n",
    "f1macsm = f1_score(labels, smoothed, average='macro')\n",
    "print(f'F1 Score Micro: {f1mic*100:.2f}')\n",
    "print(f'F1 Score Macro: {f1mac*100:.2f}')\n",
    "print(f'F1 Score Micro (smoothened): {f1micsm*100:.2f}')\n",
    "print(f'F1 Score Macro (smoothened): {f1macsm*100:.2f}')\n"
   ]
  },
  {
   "cell_type": "code",
   "execution_count": 24,
   "metadata": {},
   "outputs": [
    {
     "name": "stdout",
     "output_type": "stream",
     "text": [
      "Element: 0.0, Count: 61654\n",
      "Element: 1.0, Count: 1003046\n",
      "None\n"
     ]
    },
    {
     "data": {
      "text/plain": [
       "(array([7.08438e+05, 2.32756e+05, 5.33370e+04, 2.44300e+04, 1.61480e+04,\n",
       "        9.67100e+03, 5.59200e+03, 3.45700e+03, 2.25600e+03, 1.59100e+03,\n",
       "        1.28800e+03, 1.07100e+03, 8.10000e+02, 6.30000e+02, 5.22000e+02,\n",
       "        4.31000e+02, 4.19000e+02, 3.45000e+02, 3.39000e+02, 2.66000e+02,\n",
       "        2.44000e+02, 1.85000e+02, 1.68000e+02, 1.33000e+02, 7.40000e+01,\n",
       "        4.90000e+01, 2.60000e+01, 1.10000e+01, 7.00000e+00, 6.00000e+00]),\n",
       " array([0.50000256, 0.50001496, 0.50002742, 0.50003982, 0.50005227,\n",
       "        0.50006467, 0.50007713, 0.50008953, 0.50010198, 0.50011438,\n",
       "        0.50012684, 0.50013924, 0.50015169, 0.50016409, 0.50017655,\n",
       "        0.50018895, 0.50020134, 0.5002138 , 0.5002262 , 0.50023866,\n",
       "        0.50025105, 0.50026351, 0.50027591, 0.50028837, 0.50030077,\n",
       "        0.50031322, 0.50032562, 0.50033808, 0.50035048, 0.50036293,\n",
       "        0.50037533]),\n",
       " <BarContainer object of 30 artists>)"
      ]
     },
     "execution_count": 24,
     "metadata": {},
     "output_type": "execute_result"
    },
    {
     "data": {
      "image/png": "[encoded data removed]",
      "text/plain": [
       "<Figure size 640x480 with 1 Axes>"
      ]
     },
     "metadata": {},
     "output_type": "display_data"
    }
   ],
   "source": [
    "#test section\n",
    "def count_unique_elements(arr):\n",
    "    unique_elements, counts = np.unique(arr, return_counts=True)\n",
    "    for elem, count in zip(unique_elements, counts):\n",
    "        print(f'Element: {elem}, Count: {count}')\n",
    "\n",
    "\n",
    "print(count_unique_elements(predictions))\n",
    "plt.hist(probabilities, bins=30, alpha=0.7, color='blue') "
   ]
  },
  {
   "cell_type": "code",
   "execution_count": 9,
   "metadata": {},
   "outputs": [
    {
     "ename": "NameError",
     "evalue": "name 'srcs_og' is not defined",
     "output_type": "error",
     "traceback": [
      "\u001b[0;31m---------------------------------------------------------------------------\u001b[0m",
      "\u001b[0;31mNameError\u001b[0m                                 Traceback (most recent call last)",
      "Cell \u001b[0;32mIn[9], line 8\u001b[0m\n\u001b[1;32m      5\u001b[0m end_index \u001b[39m=\u001b[39m start_index \u001b[39m+\u001b[39m window_size\n\u001b[1;32m      7\u001b[0m \u001b[39m# Extract the data for the window\u001b[39;00m\n\u001b[0;32m----> 8\u001b[0m src_window \u001b[39m=\u001b[39m srcs_og[start_index:end_index]\n\u001b[1;32m      9\u001b[0m pw_window \u001b[39m=\u001b[39m pw[start_index:end_index]\n\u001b[1;32m     10\u001b[0m pr_window \u001b[39m=\u001b[39m pr[start_index:end_index]\n",
      "\u001b[0;31mNameError\u001b[0m: name 'srcs_og' is not defined"
     ]
    }
   ],
   "source": [
    "\n",
    "\n",
    "\n",
    "window_size = 128\n",
    "\n",
    "# Extract the 300-sample window (for example, starting at index 100)\n",
    "start_index = 200\n",
    "end_index = start_index + window_size\n",
    "\n",
    "# Extract the data for the window\n",
    "src_window = srcs_og[start_index:end_index]\n",
    "pw_window = pw[start_index:end_index]\n",
    "pr_window = pr[start_index:end_index]\n",
    "qrs_window = qrs[start_index:end_index]\n",
    "qt_window = qt[start_index:end_index]\n",
    "rr_window = rr[start_index:end_index]\n",
    "\n",
    "# Create the plot\n",
    "fig, ax1 = plt.subplots(figsize=(12, 6))\n",
    "\n",
    "# Plot src on the primary y-axis\n",
    "ax1.plot(src_window, label='src', color='black', linestyle='--')\n",
    "ax1.set_xlabel('Sample Index')\n",
    "ax1.set_ylabel('src Value')\n",
    "ax1.set_title('300 Sample Window of src with pw, pr, qrs, qt, and rr Overlaid')\n",
    "\n",
    "# Create a second y-axis\n",
    "ax2 = ax1.twinx()\n",
    "ax2.set_ylim(-6, 6)\n",
    "\n",
    "# Plot the other vectors on the secondary y-axis\n",
    "ax2.plot(pw_window, label='pw', color='blue')\n",
    "ax2.plot(pr_window, label='pr', color='green')\n",
    "ax2.plot(qrs_window, label='qrs', color='red')\n",
    "ax2.plot(qt_window, label='qt', color='purple')\n",
    "ax2.plot(rr_window, label='rr', color='orange')\n",
    "\n",
    "# Add legends for both y-axes\n",
    "lines, labels = ax1.get_legend_handles_labels()\n",
    "lines2, labels2 = ax2.get_legend_handles_labels()\n",
    "ax1.legend(lines + lines2, labels + labels2, loc='best')\n",
    "\n",
    "# Show plot\n",
    "plt.show()\n"
   ]
  },
  {
   "cell_type": "code",
   "execution_count": null,
   "metadata": {},
   "outputs": [
    {
     "name": "stdout",
     "output_type": "stream",
     "text": [
      "Total number of parameters: 34438\n"
     ]
    }
   ],
   "source": [
    "total_params = sum(p.numel() for p in model.parameters())\n",
    "print(f'Total number of parameters: {total_params}')"
   ]
  },
  {
   "cell_type": "code",
   "execution_count": null,
   "metadata": {},
   "outputs": [],
   "source": [
    "import numpy as np\n",
    "import pandas as pd\n",
    "from scipy.signal import find_peaks\n",
    "def to_roi_df(labels):\n",
    "    changes = np.diff(labels, prepend=labels[0])\n",
    "\n",
    "    # Identify the start and end indices\n",
    "    starts = np.where(changes != 0)[0]\n",
    "    ends = np.where(changes != 0)[0][1:]\n",
    "\n",
    "    # Include the end of the last segment\n",
    "    ends = np.append(ends, len(labels))\n",
    "\n",
    "    # Get the wave types\n",
    "    waves = labels[starts]\n",
    "\n",
    "    # Create the DataFrame\n",
    "    df = pd.DataFrame({\n",
    "        'wave': waves,\n",
    "        'start_index': starts,\n",
    "        'end_index': ends - 1\n",
    "    })\n",
    "\n",
    "    # Filter out the segments with wave type 0\n",
    "    df = df[df['wave'] != 0].reset_index(drop=True)\n",
    "\n",
    "    # Map the wave types to their names\n",
    "    wave_mapping = {1: 'P-Wave', 2: 'PR-Interval', 3: 'QRS-Complex', 4: 'QT-Interval', 5: 'RR-Interval'}\n",
    "    df['wave'] = df['wave'].map(wave_mapping)\n",
    "    df['duration'] = df['end_index'] - df['start_index']\n",
    "    return df\n",
    "\n",
    "def find_peaks_in_segment(segment, wave_type):\n",
    "    plt.show()\n",
    "    if wave_type == 'p':\n",
    "        # For 'p' wave, we expect one peak\n",
    "        peaks, _ = find_peaks(segment)\n",
    "        if peaks.size == 0:\n",
    "            return [np.nan]  # No peak found\n",
    "        return [peaks[np.argmax(segment[peaks])]]  # Return the location of the highest peak\n",
    "    elif wave_type == 'qrs':\n",
    "        # For 'qrs' wave, we expect two peaks: R and J\n",
    "        peaks, _ = find_peaks(segment)\n",
    "        \n",
    "        if peaks.size < 2:\n",
    "            return [np.nan, np.nan]  # Less than 2 peaks found\n",
    "        sorted_peaks = peaks[np.argsort(segment[peaks])][::-1]  # Sort peaks by height\n",
    "        return sorted(sorted_peaks[:2])  # Return the two largest peaks in time order\n",
    "\n",
    "# Function to get peaks from the DataFrame\n",
    "def get_peaks_from_roi(df, signal):\n",
    "    peaks_data = {'wave': [], 'peak1': [], 'peak2': [], 'duration':[]}\n",
    "    \n",
    "    for index, row in df.iterrows():\n",
    "        segment = signal[row['start_index']:row['end_index'] + 1]\n",
    "\n",
    "        peaks = find_peaks_in_segment(segment, row['wave'])\n",
    "        print(peaks)\n",
    "        peaks_data['wave'].append(row['wave'])\n",
    "        peaks_data['peak1'].append(row['start_index'] + peaks[0] if not np.isnan(peaks[0]) else np.nan)\n",
    "        print(row['start_index'] + peaks[0] if not np.isnan(peaks[0]) else np.nan)\n",
    "        peaks_data['peak2'].append(row['start_index'] + peaks[1] if len(peaks) > 1 and not np.isnan(peaks[1]) else np.nan)\n",
    "        peaks_data['duration'].append(row.duration)\n",
    "\n",
    "    return pd.DataFrame(peaks_data)\n",
    "\n",
    "\n",
    "\n",
    "def filter_peaks(df):\n",
    "    valid_indices = []\n",
    "    i = 0\n",
    "    while i < len(df) - 1:\n",
    "        if (df.iloc[i]['wave'] == 'p' and not np.isnan(df.iloc[i]['peak1']) and\n",
    "            df.iloc[i + 1]['wave'] == 'qrs' and not np.isnan(df.iloc[i + 1]['peak1']) and not np.isnan(df.iloc[i + 1]['peak2'])):\n",
    "            valid_indices.extend([i, i + 1])\n",
    "            i += 2\n",
    "        else:\n",
    "            i += 1\n",
    "    return df.iloc[valid_indices].reset_index(drop=True)\n",
    "\n",
    "roi_df = to_roi_df(smoothed)"
   ]
  },
  {
   "cell_type": "code",
   "execution_count": null,
   "metadata": {},
   "outputs": [
    {
     "data": {
      "text/plain": [
       "[<matplotlib.lines.Line2D at 0x7f92bc5db1c0>]"
      ]
     },
     "execution_count": 10,
     "metadata": {},
     "output_type": "execute_result"
    },
    {
     "data": {
      "image/png": "[encoded data removed]",
      "text/plain": [
       "<Figure size 640x480 with 1 Axes>"
      ]
     },
     "metadata": {},
     "output_type": "display_data"
    }
   ],
   "source": []
  },
  {
   "cell_type": "code",
   "execution_count": null,
   "metadata": {},
   "outputs": [
    {
     "name": "stdout",
     "output_type": "stream",
     "text": [
      "None\n"
     ]
    },
    {
     "ename": "TypeError",
     "evalue": "'NoneType' object is not subscriptable",
     "output_type": "error",
     "traceback": [
      "\u001b[0;31m---------------------------------------------------------------------------\u001b[0m",
      "\u001b[0;31mTypeError\u001b[0m                                 Traceback (most recent call last)",
      "Cell \u001b[0;32mIn[14], line 1\u001b[0m\n\u001b[0;32m----> 1\u001b[0m peak_df \u001b[39m=\u001b[39m get_peaks_from_roi(roi_df, srcs)\n\u001b[1;32m      2\u001b[0m peak_df \u001b[39m=\u001b[39m filter_peaks(peak_df)\n",
      "Cell \u001b[0;32mIn[13], line 60\u001b[0m, in \u001b[0;36mget_peaks_from_roi\u001b[0;34m(df, signal)\u001b[0m\n\u001b[1;32m     58\u001b[0m \u001b[39mprint\u001b[39m(peaks)\n\u001b[1;32m     59\u001b[0m peaks_data[\u001b[39m'\u001b[39m\u001b[39mwave\u001b[39m\u001b[39m'\u001b[39m]\u001b[39m.\u001b[39mappend(row[\u001b[39m'\u001b[39m\u001b[39mwave\u001b[39m\u001b[39m'\u001b[39m])\n\u001b[0;32m---> 60\u001b[0m peaks_data[\u001b[39m'\u001b[39m\u001b[39mpeak1\u001b[39m\u001b[39m'\u001b[39m]\u001b[39m.\u001b[39mappend(row[\u001b[39m'\u001b[39m\u001b[39mstart_index\u001b[39m\u001b[39m'\u001b[39m] \u001b[39m+\u001b[39m peaks[\u001b[39m0\u001b[39m] \u001b[39mif\u001b[39;00m \u001b[39mnot\u001b[39;00m np\u001b[39m.\u001b[39misnan(peaks[\u001b[39m0\u001b[39;49m]) \u001b[39melse\u001b[39;00m np\u001b[39m.\u001b[39mnan)\n\u001b[1;32m     61\u001b[0m \u001b[39mprint\u001b[39m(row[\u001b[39m'\u001b[39m\u001b[39mstart_index\u001b[39m\u001b[39m'\u001b[39m] \u001b[39m+\u001b[39m peaks[\u001b[39m0\u001b[39m] \u001b[39mif\u001b[39;00m \u001b[39mnot\u001b[39;00m np\u001b[39m.\u001b[39misnan(peaks[\u001b[39m0\u001b[39m]) \u001b[39melse\u001b[39;00m np\u001b[39m.\u001b[39mnan)\n\u001b[1;32m     62\u001b[0m peaks_data[\u001b[39m'\u001b[39m\u001b[39mpeak2\u001b[39m\u001b[39m'\u001b[39m]\u001b[39m.\u001b[39mappend(row[\u001b[39m'\u001b[39m\u001b[39mstart_index\u001b[39m\u001b[39m'\u001b[39m] \u001b[39m+\u001b[39m peaks[\u001b[39m1\u001b[39m] \u001b[39mif\u001b[39;00m \u001b[39mlen\u001b[39m(peaks) \u001b[39m>\u001b[39m \u001b[39m1\u001b[39m \u001b[39mand\u001b[39;00m \u001b[39mnot\u001b[39;00m np\u001b[39m.\u001b[39misnan(peaks[\u001b[39m1\u001b[39m]) \u001b[39melse\u001b[39;00m np\u001b[39m.\u001b[39mnan)\n",
      "\u001b[0;31mTypeError\u001b[0m: 'NoneType' object is not subscriptable"
     ]
    }
   ],
   "source": [
    "peak_df = get_peaks_from_roi(roi_df, srcs)\n",
    "peak_df = filter_peaks(peak_df)"
   ]
  },
  {
   "cell_type": "code",
   "execution_count": null,
   "metadata": {},
   "outputs": [],
   "source": [
    "len(signal)"
   ]
  },
  {
   "cell_type": "code",
   "execution_count": null,
   "metadata": {},
   "outputs": [],
   "source": [
    "# peak_df.to_csv(f'{DATA_PREFIX}_peaks.csv')\n",
    "peak_df"
   ]
  },
  {
   "cell_type": "code",
   "execution_count": null,
   "metadata": {},
   "outputs": [],
   "source": [
    "def calculate_intervals(df, sampling_rate=512):\n",
    "    intervals = {\n",
    "        'p_peak_index': [],\n",
    "        'pr_interval': [],\n",
    "        'pj_interval': [],\n",
    "        'duration':[]\n",
    "    }\n",
    "    \n",
    "    i = 0\n",
    "    while i < len(df) - 1:\n",
    "        if (df.iloc[i]['wave'] == 'p' and not np.isnan(df.iloc[i]['peak1']) and\n",
    "            df.iloc[i + 1]['wave'] == 'qrs' and not np.isnan(df.iloc[i + 1]['peak1']) and not np.isnan(df.iloc[i + 1]['peak2'])):\n",
    "            p_peak_index = df.iloc[i]['peak1']\n",
    "            qrs_peak1 = df.iloc[i + 1]['peak1']\n",
    "            qrs_peak2 = df.iloc[i + 1]['peak2']\n",
    "            \n",
    "            pr_interval = (qrs_peak1 - p_peak_index) / sampling_rate\n",
    "            pj_interval = (qrs_peak2 - p_peak_index) / sampling_rate\n",
    "            print(f'({qrs_peak2} - {p_peak_index})/{sampling_rate} = {pj_interval}')\n",
    "            print(pj_interval)\n",
    "            \n",
    "            intervals['p_peak_index'].append(p_peak_index)\n",
    "            intervals['pr_interval'].append(pr_interval)\n",
    "            intervals['pj_interval'].append(pj_interval)\n",
    "            intervals['duration'].append(df.iloc[i].duration)\n",
    "            \n",
    "            i += 2\n",
    "        else:\n",
    "            i += 1\n",
    "    \n",
    "    return pd.DataFrame(intervals)\n",
    "\n",
    "intervals = calculate_intervals(peak_df)\n",
    "intervals['p_peak_index'] = intervals['p_peak_index'].astype(int)"
   ]
  },
  {
   "cell_type": "code",
   "execution_count": null,
   "metadata": {},
   "outputs": [],
   "source": [
    "\n",
    "intervals.set_index('p_peak_index', inplace=True)\n",
    "ecg_df = pd.DataFrame({\"ECG\":srcs, \"Label\":smoothed})\n",
    "merged_df = ecg_df.merge(intervals, right_on='p_peak_index', left_index=True, how='left')\n",
    "merged_df = merged_df.ffill().bfill()\n",
    "merged_df.to_csv(f'data/intervals/{DATA_PREFIX}_intervals.csv')"
   ]
  },
  {
   "cell_type": "code",
   "execution_count": null,
   "metadata": {},
   "outputs": [],
   "source": [
    "p_df = peak_df[peak_df['wave'] == 'p']\n",
    "p_df['index'] = [int(x) for x in p_df['peak1']]\n",
    "p_df['ppinterval'] = p_df['peak1'].diff()\n",
    "p_df"
   ]
  },
  {
   "cell_type": "code",
   "execution_count": null,
   "metadata": {},
   "outputs": [],
   "source": [
    "merged_df = merged_df.merge(p_df[['index', 'ppinterval']], right_on='index', left_index=True, how='left')\n",
    "merged_df = merged_df.ffill().bfill()"
   ]
  },
  {
   "cell_type": "code",
   "execution_count": null,
   "metadata": {},
   "outputs": [],
   "source": [
    "merged_df.to_csv(f\"{DATA_PREFIX}_intervals.csv\")"
   ]
  },
  {
   "cell_type": "code",
   "execution_count": null,
   "metadata": {},
   "outputs": [],
   "source": []
  }
 ],
 "metadata": {
  "kernelspec": {
   "display_name": "painstudy",
   "language": "python",
   "name": "python3"
  },
  "language_info": {
   "codemirror_mode": {
    "name": "ipython",
    "version": 3
   },
   "file_extension": ".py",
   "mimetype": "text/x-python",
   "name": "python",
   "nbconvert_exporter": "python",
   "pygments_lexer": "ipython3",
   "version": "3.10.14"
  }
 },
 "nbformat": 4,
 "nbformat_minor": 2
}
